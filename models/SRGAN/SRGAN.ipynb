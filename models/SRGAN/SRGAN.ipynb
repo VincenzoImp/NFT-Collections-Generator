{
 "cells": [
  {
   "cell_type": "code",
   "execution_count": 1,
   "metadata": {
    "colab": {},
    "colab_type": "code",
    "id": "XZFrKWHwEf7h"
   },
   "outputs": [
    {
     "name": "stdout",
     "output_type": "stream",
     "text": [
      "GPU 0: NVIDIA GeForce RTX 3090 (UUID: GPU-5371946b-bc7a-8404-76f2-94eebc42c1b7)\n"
     ]
    }
   ],
   "source": [
    "!nvidia-smi -L"
   ]
  },
  {
   "cell_type": "code",
   "execution_count": 2,
   "metadata": {},
   "outputs": [
    {
     "name": "stdout",
     "output_type": "stream",
     "text": [
      "\u001b[01;34m../../images/png\u001b[0m\n",
      "├── \u001b[01;34mCollection1\u001b[0m\n",
      "│   └── \u001b[01;34mBAYC\u001b[0m\n",
      "└── \u001b[01;34mCollection2\u001b[0m\n",
      "    └── \u001b[01;34mEAPES\u001b[0m\n",
      "\n",
      "4 directories\n"
     ]
    }
   ],
   "source": [
    "!tree -d ../../images"
   ]
  },
  {
   "cell_type": "code",
   "execution_count": 3,
   "metadata": {},
   "outputs": [],
   "source": [
    "!pip3 install numpy -q\n",
    "!pip3 install torch -q\n",
    "!pip3 install torchvision -q\n",
    "!pip3 install matplotlib -q\n",
    "!pip3 install tqdm -q\n",
    "!pip3 install ipywidgets -q\n",
    "!pip3 install opencv-python -q"
   ]
  },
  {
   "cell_type": "code",
   "execution_count": null,
   "metadata": {},
   "outputs": [],
   "source": []
  },
  {
   "cell_type": "code",
   "execution_count": null,
   "metadata": {},
   "outputs": [],
   "source": [
    "# Set random seed for reproducibility\n",
    "# manualSeed = 42\n",
    "manualSeed = random.randint(1, 10000) # use if you want new results\n",
    "random.seed(manualSeed)\n",
    "torch.manual_seed(manualSeed)\n",
    "print(\"Random Seed: \", manualSeed)"
   ]
  },
  {
   "cell_type": "code",
   "execution_count": null,
   "metadata": {},
   "outputs": [],
   "source": []
  }
 ],
 "metadata": {
  "accelerator": "TPU",
  "colab": {
   "collapsed_sections": [],
   "machine_shape": "hm",
   "name": "SR_PT.ipynb",
   "provenance": []
  },
  "kernelspec": {
   "display_name": "vision",
   "language": "python",
   "name": "python3"
  },
  "language_info": {
   "codemirror_mode": {
    "name": "ipython",
    "version": 3
   },
   "file_extension": ".py",
   "mimetype": "text/x-python",
   "name": "python",
   "nbconvert_exporter": "python",
   "pygments_lexer": "ipython3",
   "version": "3.9.16"
  },
  "vscode": {
   "interpreter": {
    "hash": "07d9f5e508bec3c3752adee78722f681196014f9755899b43f3e274f86dd0f82"
   }
  }
 },
 "nbformat": 4,
 "nbformat_minor": 1
}
