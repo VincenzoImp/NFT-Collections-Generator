{
 "cells": [
  {
   "cell_type": "code",
   "execution_count": 1,
   "metadata": {},
   "outputs": [],
   "source": [
    "import requests\n",
    "import json\n",
    "import os\n",
    "import shutil"
   ]
  },
  {
   "cell_type": "code",
   "execution_count": 2,
   "metadata": {},
   "outputs": [],
   "source": [
    "collection = 'EAPES-8f3c1f'\n",
    "nItems = 10000"
   ]
  },
  {
   "cell_type": "code",
   "execution_count": 61,
   "metadata": {},
   "outputs": [],
   "source": [
    "def dumpCollection(collection, nItems, mode='w'):\n",
    "    chunkSize=20\n",
    "    fileInfo = os.path.join(collection, 'collectionInfo.json')\n",
    "    fileLog = os.path.join(collection, 'collectionLog.json')\n",
    "    fileData = os.path.join(collection, 'collectionData.json')\n",
    "\n",
    "    if mode == 'w':\n",
    "        os.mkdir(collection)\n",
    "        response = requests.request('get', 'https://api.elrond.com/collections/{}'.format(collection))\n",
    "        collectionInfo = response.json()\n",
    "        with open(fileInfo, mode='w', encoding='utf8') as f:\n",
    "            json.dump(collectionInfo, f, indent=4)\n",
    "        done = []\n",
    "        data = dict()\n",
    "        todo = [i for i in range(0, nItems, chunkSize)]\n",
    "    elif mode == 'a':\n",
    "        with open(fileInfo, mode='r', encoding='utf8') as f:\n",
    "            done = json.load(f, object_hook=list)\n",
    "        with open(fileData, mode='r', encoding='utf8') as f:\n",
    "            data = json.load(f)\n",
    "        todo = [i for i in range(0, nItems, chunkSize) if i not in done]\n",
    "    else:\n",
    "        return\n",
    "\n",
    "    while todo != []:\n",
    "        todoCopy = todo.copy()\n",
    "        for i in todoCopy:\n",
    "            response = requests.request('get', 'https://api.elrond.com/collections/{}/nfts?from={}&size={}'.format(collection, i,chunkSize))\n",
    "            if response.status_code == 200:\n",
    "                nftsData = response.json()\n",
    "                for nft in nftsData:\n",
    "                    data[nft['metadata']['id']] = nft\n",
    "                todo.remove(i)\n",
    "                done.append(i)\n",
    "        if todoCopy == todo:\n",
    "            break\n",
    "    with open(fileData, mode='w', encoding='utf8') as f:\n",
    "        json.dump(data, f, indent=4)\n",
    "    with open(fileLog, mode='w', encoding='utf8') as f:\n",
    "        json.dump(done, f, indent=4)\n",
    "    return"
   ]
  },
  {
   "cell_type": "code",
   "execution_count": null,
   "metadata": {},
   "outputs": [],
   "source": [
    "dumpCollection(collection, nItems, mode='w')\n",
    "while True:\n",
    "    fileData = os.path.join(collection, 'collectionData.json')\n",
    "    with open(fileData, mode='r', encoding='utf8') as f:\n",
    "        data = json.load(f)\n",
    "    if len(data) == nItems:\n",
    "        break\n",
    "    dumpCollection(collection, nItems, mode='a')\n",
    "fileLog = os.path.join(collection, 'collectionLog.json')\n",
    "os.remove(fileLog)"
   ]
  },
  {
   "cell_type": "code",
   "execution_count": 3,
   "metadata": {},
   "outputs": [],
   "source": [
    "def dumpImages(collection):\n",
    "    folderImages = os.path.join(collection, 'images')\n",
    "    if 'images' not in os.listdir(collection):\n",
    "        os.mkdir(folderImages)\n",
    "    fileData = os.path.join(collection, 'collectionData.json')\n",
    "    with open(fileData, mode='r', encoding='utf8') as f:\n",
    "        data = json.load(f)\n",
    "    imgList = os.listdir(folderImages)\n",
    "    for k, v in data.items():\n",
    "        if '{}.png'.format(k) not in imgList:\n",
    "            response = requests.get(v['url'], stream=True)\n",
    "            if response.status_code == 200:\n",
    "                with open(os.path.join(folderImages, '{}.png'.format(v['metadata']['id'])), 'wb') as out_file:\n",
    "                    shutil.copyfileobj(response.raw, out_file)\n",
    "                del response\n",
    "    return"
   ]
  },
  {
   "cell_type": "code",
   "execution_count": 15,
   "metadata": {},
   "outputs": [],
   "source": [
    "dumpImages(collection)"
   ]
  }
 ],
 "metadata": {
  "kernelspec": {
   "display_name": "Python 3.9.15 ('stable')",
   "language": "python",
   "name": "python3"
  },
  "language_info": {
   "codemirror_mode": {
    "name": "ipython",
    "version": 3
   },
   "file_extension": ".py",
   "mimetype": "text/x-python",
   "name": "python",
   "nbconvert_exporter": "python",
   "pygments_lexer": "ipython3",
   "version": "3.9.13"
  },
  "orig_nbformat": 4,
  "vscode": {
   "interpreter": {
    "hash": "731c43eb56f848c5bca9de05efde814bd49b40cfac306b2f8be57987981a1007"
   }
  }
 },
 "nbformat": 4,
 "nbformat_minor": 2
}
