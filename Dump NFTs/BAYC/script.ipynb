{
 "cells": [
  {
   "cell_type": "code",
   "execution_count": 28,
   "metadata": {},
   "outputs": [],
   "source": [
    "import json\n",
    "import os\n",
    "import pandas as pd"
   ]
  },
  {
   "cell_type": "code",
   "execution_count": 29,
   "metadata": {},
   "outputs": [],
   "source": [
    "collection = 'BAYC'\n",
    "nItems = 10000\n",
    "uri = 'ipfs://QmeSjSinHpPnmXmspMjwiXyN6zS4E9zccariGR3jxcaWtq/'"
   ]
  },
  {
   "cell_type": "code",
   "execution_count": 30,
   "metadata": {},
   "outputs": [],
   "source": [
    "for image in os.listdir('../../../images_BAYC'):\n",
    "    os.rename('../../../images_BAYC/'+image, '../../../images_BAYC/'+image.upper())"
   ]
  },
  {
   "cell_type": "code",
   "execution_count": 31,
   "metadata": {},
   "outputs": [],
   "source": [
    "dictMetadata = {'ID': [], 'Background': [], 'Clothes': [], 'Earring': [], 'Eyes': [], 'Fur': [], 'Hat': [], 'Mouth': []}\n",
    "with open('db') as f:\n",
    "    for NFTdata in f.readlines():\n",
    "        traits = {'Background', 'Clothes', 'Earring', 'Eyes', 'Fur', 'Hat', 'Mouth'}\n",
    "        d = json.loads(NFTdata)\n",
    "        id = d['metadata']['image'][7:]\n",
    "        newID = d['uri'][len(uri):]\n",
    "        dictMetadata['ID'].append(newID)\n",
    "        for trait in d['metadata']['attributes']:\n",
    "            dictMetadata[trait['trait_type']].append(trait['value'])\n",
    "            traits.remove(trait['trait_type'])\n",
    "        for trait in traits:\n",
    "            dictMetadata[trait].append('None')"
   ]
  },
  {
   "cell_type": "code",
   "execution_count": 32,
   "metadata": {},
   "outputs": [],
   "source": [
    "df = pd.DataFrame.from_dict(dictMetadata)\n",
    "df['ID'] = pd.to_numeric(df['ID'])\n",
    "df.sort_values('ID').to_csv('BAYC.csv', index=False)"
   ]
  }
 ],
 "metadata": {
  "kernelspec": {
   "display_name": "Python 3.9.15 ('stable')",
   "language": "python",
   "name": "python3"
  },
  "language_info": {
   "codemirror_mode": {
    "name": "ipython",
    "version": 3
   },
   "file_extension": ".py",
   "mimetype": "text/x-python",
   "name": "python",
   "nbconvert_exporter": "python",
   "pygments_lexer": "ipython3",
   "version": "3.9.13"
  },
  "orig_nbformat": 4,
  "vscode": {
   "interpreter": {
    "hash": "731c43eb56f848c5bca9de05efde814bd49b40cfac306b2f8be57987981a1007"
   }
  }
 },
 "nbformat": 4,
 "nbformat_minor": 2
}
